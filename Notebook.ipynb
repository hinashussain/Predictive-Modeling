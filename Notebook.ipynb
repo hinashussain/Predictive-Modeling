{
 "cells": [
  {
   "cell_type": "code",
   "execution_count": 2,
   "id": "dd371e78",
   "metadata": {},
   "outputs": [],
   "source": [
    "import pandas as pd\n",
    "import sklearn\n",
    "\n",
    "from sklearn         import tree\n",
    "from sklearn         import neighbors\n",
    "from sklearn.metrics import accuracy_score\n",
    "from sklearn.metrics import confusion_matrix\n",
    "from datetime import date\n",
    "import numpy as np\n",
    "from scipy.stats.mstats   import winsorize\n",
    "from scipy.stats          import pearsonr\n",
    "import datetime as dt\n",
    "from sklearn.linear_model import LogisticRegression \n",
    "from sklearn.metrics      import auc\n",
    "from sklearn.metrics      import roc_auc_score\n",
    "from sklearn.ensemble import RandomForestClassifier, RandomForestRegressor\n",
    "from sklearn.neural_network import MLPClassifier\n",
    "from sklearn.preprocessing import StandardScaler\n",
    "import matplotlib.pyplot as plt\n",
    "import scikitplot as skplt\n",
    "from pandas               import DataFrame\n",
    "from pandas               import read_csv\n",
    "from pandas               import Series\n",
    "from numpy                import array\n",
    "from numpy                import random\n",
    "from sklearn.linear_model import LogisticRegression \n",
    "from sklearn.metrics      import auc\n",
    "from sklearn.metrics      import roc_auc_score\n",
    "from matplotlib           import pyplot\n",
    "from scipy.stats          import pearsonr\n",
    "import warnings\n",
    "warnings.filterwarnings(\"ignore\")\n",
    "import sqldf\n",
    "from sklearn.ensemble       import GradientBoostingClassifier"
   ]
  },
  {
   "cell_type": "code",
   "execution_count": 3,
   "id": "00662d83",
   "metadata": {},
   "outputs": [],
   "source": [
    "campaigns = pd.read_csv(\"campaigns.csv\", sep=';')\n",
    "donors = pd.read_csv(\"donors.csv\")\n",
    "gifts = pd.read_csv(\"gifts.csv\")\n",
    "camp6169 = pd.read_csv(\"selection campaign 6169.csv\")\n",
    "camp7244 = pd.read_csv(\"selection campaign 7244.csv\")"
   ]
  },
  {
   "cell_type": "markdown",
   "id": "3dc4379f",
   "metadata": {},
   "source": [
    "# Data Exploration"
   ]
  },
  {
   "cell_type": "code",
   "execution_count": 4,
   "id": "1db77929",
   "metadata": {},
   "outputs": [
    {
     "name": "stdout",
     "output_type": "stream",
     "text": [
      "<class 'pandas.core.frame.DataFrame'>\n",
      "RangeIndex: 367 entries, 0 to 366\n",
      "Data columns (total 4 columns):\n",
      " #   Column       Non-Null Count  Dtype \n",
      "---  ------       --------------  ----- \n",
      " 0   campaignID   367 non-null    int64 \n",
      " 1   date         367 non-null    object\n",
      " 2   lettersSent  367 non-null    object\n",
      " 3   CostUnit     367 non-null    object\n",
      "dtypes: int64(1), object(3)\n",
      "memory usage: 11.6+ KB\n",
      "None\n",
      "(367, 4)\n"
     ]
    },
    {
     "data": {
      "text/html": [
       "<div>\n",
       "<style scoped>\n",
       "    .dataframe tbody tr th:only-of-type {\n",
       "        vertical-align: middle;\n",
       "    }\n",
       "\n",
       "    .dataframe tbody tr th {\n",
       "        vertical-align: top;\n",
       "    }\n",
       "\n",
       "    .dataframe thead th {\n",
       "        text-align: right;\n",
       "    }\n",
       "</style>\n",
       "<table border=\"1\" class=\"dataframe\">\n",
       "  <thead>\n",
       "    <tr style=\"text-align: right;\">\n",
       "      <th></th>\n",
       "      <th>campaignID</th>\n",
       "      <th>date</th>\n",
       "      <th>lettersSent</th>\n",
       "      <th>CostUnit</th>\n",
       "    </tr>\n",
       "  </thead>\n",
       "  <tbody>\n",
       "    <tr>\n",
       "      <th>0</th>\n",
       "      <td>153</td>\n",
       "      <td>13/12/2004</td>\n",
       "      <td>6 873</td>\n",
       "      <td>0,17 €</td>\n",
       "    </tr>\n",
       "    <tr>\n",
       "      <th>1</th>\n",
       "      <td>154</td>\n",
       "      <td>01/01/2005</td>\n",
       "      <td>7 656</td>\n",
       "      <td>0,30 €</td>\n",
       "    </tr>\n",
       "    <tr>\n",
       "      <th>2</th>\n",
       "      <td>180</td>\n",
       "      <td>18/01/2005</td>\n",
       "      <td>9 933</td>\n",
       "      <td>0,20 €</td>\n",
       "    </tr>\n",
       "    <tr>\n",
       "      <th>3</th>\n",
       "      <td>433</td>\n",
       "      <td>29/01/2005</td>\n",
       "      <td>7 448</td>\n",
       "      <td>0,59 €</td>\n",
       "    </tr>\n",
       "    <tr>\n",
       "      <th>4</th>\n",
       "      <td>476</td>\n",
       "      <td>12/02/2005</td>\n",
       "      <td>6 605</td>\n",
       "      <td>0,51 €</td>\n",
       "    </tr>\n",
       "  </tbody>\n",
       "</table>\n",
       "</div>"
      ],
      "text/plain": [
       "   campaignID        date lettersSent CostUnit\n",
       "0         153  13/12/2004       6 873   0,17 €\n",
       "1         154  01/01/2005       7 656   0,30 €\n",
       "2         180  18/01/2005       9 933   0,20 €\n",
       "3         433  29/01/2005       7 448   0,59 €\n",
       "4         476  12/02/2005       6 605   0,51 €"
      ]
     },
     "execution_count": 4,
     "metadata": {},
     "output_type": "execute_result"
    }
   ],
   "source": [
    "print(campaigns.info())\n",
    "print(campaigns.shape)\n",
    "campaigns.head()"
   ]
  },
  {
   "cell_type": "code",
   "execution_count": 5,
   "id": "c49a8c0b",
   "metadata": {},
   "outputs": [
    {
     "data": {
      "text/html": [
       "<div>\n",
       "<style scoped>\n",
       "    .dataframe tbody tr th:only-of-type {\n",
       "        vertical-align: middle;\n",
       "    }\n",
       "\n",
       "    .dataframe tbody tr th {\n",
       "        vertical-align: top;\n",
       "    }\n",
       "\n",
       "    .dataframe thead th {\n",
       "        text-align: right;\n",
       "    }\n",
       "</style>\n",
       "<table border=\"1\" class=\"dataframe\">\n",
       "  <thead>\n",
       "    <tr style=\"text-align: right;\">\n",
       "      <th></th>\n",
       "      <th>campaignID</th>\n",
       "      <th>date</th>\n",
       "      <th>lettersSent</th>\n",
       "      <th>CostUnit</th>\n",
       "    </tr>\n",
       "  </thead>\n",
       "  <tbody>\n",
       "    <tr>\n",
       "      <th>335</th>\n",
       "      <td>6169</td>\n",
       "      <td>04/09/2018</td>\n",
       "      <td>34 888</td>\n",
       "      <td>0,87 €</td>\n",
       "    </tr>\n",
       "  </tbody>\n",
       "</table>\n",
       "</div>"
      ],
      "text/plain": [
       "     campaignID        date lettersSent CostUnit\n",
       "335        6169  04/09/2018      34 888   0,87 €"
      ]
     },
     "execution_count": 5,
     "metadata": {},
     "output_type": "execute_result"
    }
   ],
   "source": [
    "campaigns[campaigns['campaignID'] == 6169]"
   ]
  },
  {
   "cell_type": "code",
   "execution_count": 6,
   "id": "6197ec87",
   "metadata": {},
   "outputs": [
    {
     "data": {
      "text/html": [
       "<div>\n",
       "<style scoped>\n",
       "    .dataframe tbody tr th:only-of-type {\n",
       "        vertical-align: middle;\n",
       "    }\n",
       "\n",
       "    .dataframe tbody tr th {\n",
       "        vertical-align: top;\n",
       "    }\n",
       "\n",
       "    .dataframe thead th {\n",
       "        text-align: right;\n",
       "    }\n",
       "</style>\n",
       "<table border=\"1\" class=\"dataframe\">\n",
       "  <thead>\n",
       "    <tr style=\"text-align: right;\">\n",
       "      <th></th>\n",
       "      <th>campaignID</th>\n",
       "      <th>date</th>\n",
       "      <th>lettersSent</th>\n",
       "      <th>CostUnit</th>\n",
       "    </tr>\n",
       "  </thead>\n",
       "  <tbody>\n",
       "    <tr>\n",
       "      <th>354</th>\n",
       "      <td>7244</td>\n",
       "      <td>18/06/2019</td>\n",
       "      <td>25 645</td>\n",
       "      <td>0,55 €</td>\n",
       "    </tr>\n",
       "  </tbody>\n",
       "</table>\n",
       "</div>"
      ],
      "text/plain": [
       "     campaignID        date lettersSent CostUnit\n",
       "354        7244  18/06/2019      25 645   0,55 €"
      ]
     },
     "execution_count": 6,
     "metadata": {},
     "output_type": "execute_result"
    }
   ],
   "source": [
    "campaigns[campaigns['campaignID'] == 7244]"
   ]
  },
  {
   "cell_type": "code",
   "execution_count": 7,
   "id": "6f7d185b",
   "metadata": {},
   "outputs": [
    {
     "name": "stdout",
     "output_type": "stream",
     "text": [
      "<class 'pandas.core.frame.DataFrame'>\n",
      "RangeIndex: 44691 entries, 0 to 44690\n",
      "Data columns (total 7 columns):\n",
      " #   Column       Non-Null Count  Dtype  \n",
      "---  ------       --------------  -----  \n",
      " 0   donorID      44691 non-null  int64  \n",
      " 1   zipcode      44689 non-null  float64\n",
      " 2   province     44691 non-null  object \n",
      " 3   region       44691 non-null  object \n",
      " 4   gender       44659 non-null  object \n",
      " 5   language     44691 non-null  object \n",
      " 6   dateOfBirth  44691 non-null  object \n",
      "dtypes: float64(1), int64(1), object(5)\n",
      "memory usage: 2.4+ MB\n",
      "None\n",
      "(44691, 7)\n"
     ]
    },
    {
     "data": {
      "text/html": [
       "<div>\n",
       "<style scoped>\n",
       "    .dataframe tbody tr th:only-of-type {\n",
       "        vertical-align: middle;\n",
       "    }\n",
       "\n",
       "    .dataframe tbody tr th {\n",
       "        vertical-align: top;\n",
       "    }\n",
       "\n",
       "    .dataframe thead th {\n",
       "        text-align: right;\n",
       "    }\n",
       "</style>\n",
       "<table border=\"1\" class=\"dataframe\">\n",
       "  <thead>\n",
       "    <tr style=\"text-align: right;\">\n",
       "      <th></th>\n",
       "      <th>donorID</th>\n",
       "      <th>zipcode</th>\n",
       "      <th>province</th>\n",
       "      <th>region</th>\n",
       "      <th>gender</th>\n",
       "      <th>language</th>\n",
       "      <th>dateOfBirth</th>\n",
       "    </tr>\n",
       "  </thead>\n",
       "  <tbody>\n",
       "    <tr>\n",
       "      <th>0</th>\n",
       "      <td>100001</td>\n",
       "      <td>1861.0</td>\n",
       "      <td>Flemish Brabant</td>\n",
       "      <td>Flanders</td>\n",
       "      <td>F</td>\n",
       "      <td>NL</td>\n",
       "      <td>12/24/1967</td>\n",
       "    </tr>\n",
       "    <tr>\n",
       "      <th>1</th>\n",
       "      <td>100002</td>\n",
       "      <td>2260.0</td>\n",
       "      <td>Antwerp</td>\n",
       "      <td>Flanders</td>\n",
       "      <td>M</td>\n",
       "      <td>NL</td>\n",
       "      <td>01/14/1952</td>\n",
       "    </tr>\n",
       "    <tr>\n",
       "      <th>2</th>\n",
       "      <td>100003</td>\n",
       "      <td>1780.0</td>\n",
       "      <td>Flemish Brabant</td>\n",
       "      <td>Flanders</td>\n",
       "      <td>M</td>\n",
       "      <td>NL</td>\n",
       "      <td>12/23/1986</td>\n",
       "    </tr>\n",
       "    <tr>\n",
       "      <th>3</th>\n",
       "      <td>100004</td>\n",
       "      <td>1020.0</td>\n",
       "      <td>Brussels</td>\n",
       "      <td>Brussels</td>\n",
       "      <td>F</td>\n",
       "      <td>FR</td>\n",
       "      <td>03/29/1952</td>\n",
       "    </tr>\n",
       "    <tr>\n",
       "      <th>4</th>\n",
       "      <td>100005</td>\n",
       "      <td>1020.0</td>\n",
       "      <td>Brussels</td>\n",
       "      <td>Brussels</td>\n",
       "      <td>F</td>\n",
       "      <td>FR</td>\n",
       "      <td>06/25/1986</td>\n",
       "    </tr>\n",
       "  </tbody>\n",
       "</table>\n",
       "</div>"
      ],
      "text/plain": [
       "   donorID  zipcode         province    region gender language dateOfBirth\n",
       "0   100001   1861.0  Flemish Brabant  Flanders      F       NL  12/24/1967\n",
       "1   100002   2260.0          Antwerp  Flanders      M       NL  01/14/1952\n",
       "2   100003   1780.0  Flemish Brabant  Flanders      M       NL  12/23/1986\n",
       "3   100004   1020.0         Brussels  Brussels      F       FR  03/29/1952\n",
       "4   100005   1020.0         Brussels  Brussels      F       FR  06/25/1986"
      ]
     },
     "execution_count": 7,
     "metadata": {},
     "output_type": "execute_result"
    }
   ],
   "source": [
    "donors = donors.drop(['Unnamed: 0'], axis=1)   \n",
    "print(donors.info())\n",
    "print(donors.shape)\n",
    "donors.head()"
   ]
  },
  {
   "cell_type": "code",
   "execution_count": 8,
   "id": "6b72b859",
   "metadata": {},
   "outputs": [
    {
     "name": "stdout",
     "output_type": "stream",
     "text": [
      "<class 'pandas.core.frame.DataFrame'>\n",
      "RangeIndex: 216594 entries, 0 to 216593\n",
      "Data columns (total 4 columns):\n",
      " #   Column      Non-Null Count   Dtype  \n",
      "---  ------      --------------   -----  \n",
      " 0   donorID     216594 non-null  int64  \n",
      " 1   campaignID  200957 non-null  float64\n",
      " 2   amount      216594 non-null  object \n",
      " 3   date        216594 non-null  object \n",
      "dtypes: float64(1), int64(1), object(2)\n",
      "memory usage: 6.6+ MB\n",
      "None\n",
      "(216594, 4)\n"
     ]
    },
    {
     "data": {
      "text/html": [
       "<div>\n",
       "<style scoped>\n",
       "    .dataframe tbody tr th:only-of-type {\n",
       "        vertical-align: middle;\n",
       "    }\n",
       "\n",
       "    .dataframe tbody tr th {\n",
       "        vertical-align: top;\n",
       "    }\n",
       "\n",
       "    .dataframe thead th {\n",
       "        text-align: right;\n",
       "    }\n",
       "</style>\n",
       "<table border=\"1\" class=\"dataframe\">\n",
       "  <thead>\n",
       "    <tr style=\"text-align: right;\">\n",
       "      <th></th>\n",
       "      <th>donorID</th>\n",
       "      <th>campaignID</th>\n",
       "      <th>amount</th>\n",
       "      <th>date</th>\n",
       "    </tr>\n",
       "  </thead>\n",
       "  <tbody>\n",
       "    <tr>\n",
       "      <th>0</th>\n",
       "      <td>100001</td>\n",
       "      <td>NaN</td>\n",
       "      <td>12,39</td>\n",
       "      <td>2004-03-23</td>\n",
       "    </tr>\n",
       "    <tr>\n",
       "      <th>1</th>\n",
       "      <td>100001</td>\n",
       "      <td>1577.0</td>\n",
       "      <td>12,39</td>\n",
       "      <td>2007-10-11</td>\n",
       "    </tr>\n",
       "    <tr>\n",
       "      <th>2</th>\n",
       "      <td>100001</td>\n",
       "      <td>1634.0</td>\n",
       "      <td>6,69</td>\n",
       "      <td>2007-12-28</td>\n",
       "    </tr>\n",
       "    <tr>\n",
       "      <th>3</th>\n",
       "      <td>100001</td>\n",
       "      <td>1778.0</td>\n",
       "      <td>24,79</td>\n",
       "      <td>2008-06-14</td>\n",
       "    </tr>\n",
       "    <tr>\n",
       "      <th>4</th>\n",
       "      <td>100001</td>\n",
       "      <td>1808.0</td>\n",
       "      <td>7,44</td>\n",
       "      <td>2008-07-09</td>\n",
       "    </tr>\n",
       "  </tbody>\n",
       "</table>\n",
       "</div>"
      ],
      "text/plain": [
       "   donorID  campaignID amount        date\n",
       "0   100001         NaN  12,39  2004-03-23\n",
       "1   100001      1577.0  12,39  2007-10-11\n",
       "2   100001      1634.0   6,69  2007-12-28\n",
       "3   100001      1778.0  24,79  2008-06-14\n",
       "4   100001      1808.0   7,44  2008-07-09"
      ]
     },
     "execution_count": 8,
     "metadata": {},
     "output_type": "execute_result"
    }
   ],
   "source": [
    "gifts = gifts.drop(['Unnamed: 0'], axis=1)   \n",
    "print(gifts.info())\n",
    "print(gifts.shape)\n",
    "gifts.head()"
   ]
  },
  {
   "cell_type": "code",
   "execution_count": 9,
   "id": "6866143e",
   "metadata": {},
   "outputs": [
    {
     "name": "stdout",
     "output_type": "stream",
     "text": [
      "<class 'pandas.core.frame.DataFrame'>\n",
      "RangeIndex: 34888 entries, 0 to 34887\n",
      "Data columns (total 1 columns):\n",
      " #   Column   Non-Null Count  Dtype\n",
      "---  ------   --------------  -----\n",
      " 0   donorID  34888 non-null  int64\n",
      "dtypes: int64(1)\n",
      "memory usage: 272.7 KB\n",
      "None\n",
      "(34888, 1)\n"
     ]
    },
    {
     "data": {
      "text/html": [
       "<div>\n",
       "<style scoped>\n",
       "    .dataframe tbody tr th:only-of-type {\n",
       "        vertical-align: middle;\n",
       "    }\n",
       "\n",
       "    .dataframe tbody tr th {\n",
       "        vertical-align: top;\n",
       "    }\n",
       "\n",
       "    .dataframe thead th {\n",
       "        text-align: right;\n",
       "    }\n",
       "</style>\n",
       "<table border=\"1\" class=\"dataframe\">\n",
       "  <thead>\n",
       "    <tr style=\"text-align: right;\">\n",
       "      <th></th>\n",
       "      <th>donorID</th>\n",
       "    </tr>\n",
       "  </thead>\n",
       "  <tbody>\n",
       "    <tr>\n",
       "      <th>0</th>\n",
       "      <td>100001</td>\n",
       "    </tr>\n",
       "    <tr>\n",
       "      <th>1</th>\n",
       "      <td>100002</td>\n",
       "    </tr>\n",
       "    <tr>\n",
       "      <th>2</th>\n",
       "      <td>100004</td>\n",
       "    </tr>\n",
       "    <tr>\n",
       "      <th>3</th>\n",
       "      <td>100008</td>\n",
       "    </tr>\n",
       "    <tr>\n",
       "      <th>4</th>\n",
       "      <td>100009</td>\n",
       "    </tr>\n",
       "  </tbody>\n",
       "</table>\n",
       "</div>"
      ],
      "text/plain": [
       "   donorID\n",
       "0   100001\n",
       "1   100002\n",
       "2   100004\n",
       "3   100008\n",
       "4   100009"
      ]
     },
     "execution_count": 9,
     "metadata": {},
     "output_type": "execute_result"
    }
   ],
   "source": [
    "print(camp6169.info())\n",
    "print(camp6169.shape)\n",
    "camp6169.head()"
   ]
  },
  {
   "cell_type": "code",
   "execution_count": 10,
   "id": "ef5fd78d",
   "metadata": {},
   "outputs": [
    {
     "name": "stdout",
     "output_type": "stream",
     "text": [
      "<class 'pandas.core.frame.DataFrame'>\n",
      "RangeIndex: 25645 entries, 0 to 25644\n",
      "Data columns (total 1 columns):\n",
      " #   Column   Non-Null Count  Dtype\n",
      "---  ------   --------------  -----\n",
      " 0   donorID  25645 non-null  int64\n",
      "dtypes: int64(1)\n",
      "memory usage: 200.5 KB\n",
      "None\n",
      "(25645, 1)\n"
     ]
    },
    {
     "data": {
      "text/html": [
       "<div>\n",
       "<style scoped>\n",
       "    .dataframe tbody tr th:only-of-type {\n",
       "        vertical-align: middle;\n",
       "    }\n",
       "\n",
       "    .dataframe tbody tr th {\n",
       "        vertical-align: top;\n",
       "    }\n",
       "\n",
       "    .dataframe thead th {\n",
       "        text-align: right;\n",
       "    }\n",
       "</style>\n",
       "<table border=\"1\" class=\"dataframe\">\n",
       "  <thead>\n",
       "    <tr style=\"text-align: right;\">\n",
       "      <th></th>\n",
       "      <th>donorID</th>\n",
       "    </tr>\n",
       "  </thead>\n",
       "  <tbody>\n",
       "    <tr>\n",
       "      <th>0</th>\n",
       "      <td>100001</td>\n",
       "    </tr>\n",
       "    <tr>\n",
       "      <th>1</th>\n",
       "      <td>100002</td>\n",
       "    </tr>\n",
       "    <tr>\n",
       "      <th>2</th>\n",
       "      <td>100008</td>\n",
       "    </tr>\n",
       "    <tr>\n",
       "      <th>3</th>\n",
       "      <td>100009</td>\n",
       "    </tr>\n",
       "    <tr>\n",
       "      <th>4</th>\n",
       "      <td>100010</td>\n",
       "    </tr>\n",
       "  </tbody>\n",
       "</table>\n",
       "</div>"
      ],
      "text/plain": [
       "   donorID\n",
       "0   100001\n",
       "1   100002\n",
       "2   100008\n",
       "3   100009\n",
       "4   100010"
      ]
     },
     "execution_count": 10,
     "metadata": {},
     "output_type": "execute_result"
    }
   ],
   "source": [
    "print(camp7244.info())\n",
    "print(camp7244.shape)\n",
    "camp7244.head()"
   ]
  },
  {
   "cell_type": "markdown",
   "id": "b705bc81",
   "metadata": {},
   "source": [
    "# Data Preparation - Train"
   ]
  },
  {
   "cell_type": "code",
   "execution_count": 11,
   "id": "e98130b0",
   "metadata": {},
   "outputs": [
    {
     "name": "stdout",
     "output_type": "stream",
     "text": [
      "(34888, 1)\n"
     ]
    },
    {
     "data": {
      "text/plain": [
       "335    34 888\n",
       "Name: lettersSent, dtype: object"
      ]
     },
     "execution_count": 11,
     "metadata": {},
     "output_type": "execute_result"
    }
   ],
   "source": [
    "#Crosscheck campaign and donor totals\n",
    "print(camp6169.shape)\n",
    "campaigns.loc[campaigns['campaignID'] == 6169, 'lettersSent']"
   ]
  },
  {
   "cell_type": "markdown",
   "id": "e439168b",
   "metadata": {},
   "source": [
    "Donors Table"
   ]
  },
  {
   "cell_type": "code",
   "execution_count": 12,
   "id": "95c46864",
   "metadata": {},
   "outputs": [],
   "source": [
    "#Fix the province category in donor table and make dummy variables for the provinces\n",
    "donors['province'] = donors['province'].str.title() \n",
    "\n",
    "donors = donors.join(pd.get_dummies(donors['province'], prefix=\"prov\", drop_first = False))\n",
    "donors = donors.drop(['province','prov_Missing'], axis=1) \n",
    "\n",
    "#Make dummy variables for Gender and drop original\n",
    "donors['gender'] = donors['gender'].fillna(\"Gender Missing\")\n",
    "donors = donors.join(pd.get_dummies(donors['gender'], drop_first = False))\n",
    "donors = donors.drop(['gender', \"Gender Missing\"], axis=1) \n",
    "donors = donors.rename(columns = {'M': 'Male', 'F': 'Female'})\n",
    "\n",
    "\n",
    "#Make dummy variables for Language and drop original\n",
    "donors = donors.join(pd.get_dummies(donors['language'], prefix=\"lang\", drop_first = True))\n",
    "donors = donors.drop(['language'], axis=1) \n",
    "\n",
    "#Format the date of birth column\n",
    "donors['dateOfBirth'] = pd.to_datetime(donors['dateOfBirth'], format=\"%m/%d/%Y\")\n",
    "\n",
    "#Drop unwanted columns\n",
    "donors = donors.drop(['zipcode', 'region'], axis=1) \n",
    "\n"
   ]
  },
  {
   "cell_type": "markdown",
   "id": "5a99aa64",
   "metadata": {},
   "source": [
    "Merge Donors & Camp6169"
   ]
  },
  {
   "cell_type": "code",
   "execution_count": 13,
   "id": "208a7b8a",
   "metadata": {},
   "outputs": [],
   "source": [
    "#Merge donor and camp6169\n",
    "train = pd.merge(camp6169, donors, how = 'left', on = 'donorID')\n"
   ]
  },
  {
   "cell_type": "markdown",
   "id": "66e97171",
   "metadata": {},
   "source": [
    "Gifts Table"
   ]
  },
  {
   "cell_type": "code",
   "execution_count": 14,
   "id": "93405d67",
   "metadata": {},
   "outputs": [],
   "source": [
    "#Filter the gifts dataset to only take data before August 4th 2018 (drop date is Sept)\n",
    "gifts['date'] = pd.to_datetime(gifts['date'], format=\"%Y/%m/%d\")\n",
    "\n",
    "gifts18 = gifts[gifts['date'] < '2018-08-04'].copy(deep=True)\n",
    "\n",
    "#Convert the amount column to float\n",
    "gifts18['amount'] = gifts18['amount'].str.replace(',','.').astype(float)\n",
    "\n",
    "\n",
    "#Extract the latest donation date for each donor\n",
    "latestdate = gifts18.groupby('donorID')['date'].agg('max')\n",
    "\n",
    "\n",
    "#Extract the first donation date for each donor\n",
    "firstdate = gifts18.groupby('donorID')['date'].agg('min')\n",
    "\n",
    "\n",
    "#Compute statistics on the gift amount per donor\n",
    "stats = gifts18.groupby('donorID')['amount'].agg(['count', 'sum', 'mean','std', 'min', 'max'])\n",
    "\n",
    "#merge gifts18 with latestdate, firstdate stats and count_more_than_30\n",
    "\n",
    "gifts18 = pd.merge(gifts18, latestdate, how = 'left', on = 'donorID')\n",
    "\n",
    "gifts18 = pd.merge(gifts18, firstdate, how = 'left', on = 'donorID')\n",
    "\n",
    "gifts18 = pd.merge(gifts18, stats, how = 'left', on = 'donorID')\n",
    "\n",
    "\n",
    "\n",
    "#Rename Columns\n",
    "gifts18 = gifts18.rename(columns = {'date_x': 'date', 'date_y': 'latestdate', 'date': 'firstdate', 'count': 'frequency'})\n",
    "\n",
    "\n",
    "#Calculate Recency\n",
    "gifts18['recency'] =  gifts18['latestdate'].apply(lambda x: pd.to_datetime('2018-8-4', format=\"%Y/%m/%d\") - x)\n",
    "\n",
    "#Convert recency to integer\n",
    "#Refernce: https://stackoverflow.com/questions/25646200/python-convert-timedelta-to-int-in-a-dataframe\n",
    "gifts18['recency'] = gifts18['recency'].dt.days.astype('int16')\n",
    "\n",
    "\n",
    "#Calculate Active period (time between first and last donation)\n",
    "gifts18['active_period'] = gifts18['latestdate'] - gifts18['firstdate']\n",
    "\n",
    "#Convert active period to integer\n",
    "gifts18['active_period'] = gifts18['active_period'].dt.days.astype('int16')\n",
    "\n",
    "#Make dummy for frequency of donations greater than 30\n",
    "gifts18[\"freq_donated>30\"] = gifts18['amount'].apply(lambda a: int(a >= 30))\n",
    "\n",
    "\n",
    "#Calculate amount donated in campaigns only\n",
    "incampaignsonly = sqldf.run(\"\"\"\n",
    "\n",
    "select\n",
    "\n",
    "DonorID, sum(amount) as donation_in_campaign_only\n",
    "\n",
    "from gifts18\n",
    "where campaignID IS NOT NULL\n",
    "group by DonorID\n",
    "\n",
    "\"\"\")\n",
    "\n",
    "#Merge gifts18 with incampaignsonly\n",
    "gifts18 = pd.merge(gifts18, incampaignsonly, how = 'left', on = 'donorID')\n",
    "\n",
    "#Drop unwanted columns\n",
    "gifts18 = gifts18.drop(['campaignID', 'amount', 'date'], axis=1) \n",
    "\n",
    "\n",
    "#Calculate donations and frequency in past 1 year\n",
    "\n",
    "gifts_1year = gifts[(gifts['date'] > '2017-08-04') & (gifts['date'] < '2018-08-04')]\n",
    "\n",
    "gifts_1year['amount'] = gifts_1year['amount'].str.replace(',','.').astype(float)\n",
    "\n",
    "gifts_1year = gifts_1year.groupby('donorID')['amount'].agg(['sum', 'count'])\n",
    "\n",
    "gifts_1year = gifts_1year.rename(columns = {'sum': 'donation_last1year', 'count': 'frequency_last1year'})\n",
    "\n",
    "\n",
    "#Calculate donations and frequency in past 3 year\n",
    "\n",
    "gifts_3year = gifts[(gifts['date'] > '2015-08-04') & (gifts['date'] < '2018-08-04')]\n",
    "\n",
    "gifts_3year['amount'] = gifts_3year['amount'].str.replace(',','.').astype(float)\n",
    "\n",
    "gifts_3year = gifts_3year.groupby('donorID')['amount'].agg(['sum', 'count'])\n",
    "\n",
    "gifts_3year = gifts_3year.rename(columns = {'sum': 'donation_last3years', 'count' : 'frequency_last3years'})\n",
    "\n",
    "\n",
    "#Calculate donations and frequency in past 5 years\n",
    "\n",
    "gifts_5year = gifts[(gifts['date'] > '2013-08-04') & (gifts['date'] < '2018-08-04')]\n",
    "\n",
    "gifts_5year['amount'] = gifts_5year['amount'].str.replace(',','.').astype(float)\n",
    "\n",
    "gifts_5year = gifts_5year.groupby('donorID')['amount'].agg(['sum', 'count'])\n",
    "\n",
    "gifts_5year = gifts_5year.rename(columns = {'sum': 'donation_last5years', 'count' : 'frequency_last5years'})\n",
    "\n",
    "#merge gifts18 with donations from last 1, 3, and 5 years\n",
    "\n",
    "gifts18 = pd.merge(gifts18, gifts_1year, how = 'left', on = 'donorID')\n",
    "gifts18 = pd.merge(gifts18, gifts_3year, how = 'left', on = 'donorID')\n",
    "gifts18 = pd.merge(gifts18, gifts_5year, how = 'left', on = 'donorID')\n",
    "\n",
    "\n",
    "#Drop full duplicate columns\n",
    "gifts18.drop_duplicates(inplace=True, subset = ['donorID'])\n",
    "\n",
    "\n",
    "#Reset the index after dropping\n",
    "gifts18.reset_index(drop=True, inplace=True)\n",
    "\n"
   ]
  },
  {
   "cell_type": "markdown",
   "id": "50a36a48",
   "metadata": {},
   "source": [
    "Merge gifts with combined donors & camp6169"
   ]
  },
  {
   "cell_type": "code",
   "execution_count": 15,
   "id": "5016ac24",
   "metadata": {},
   "outputs": [],
   "source": [
    "#Merge gifts18 with the combined donors and camp6169 table\n",
    "train = pd.merge(train, gifts18, how = 'left', on='donorID')\n",
    "\n"
   ]
  },
  {
   "cell_type": "markdown",
   "id": "8a76d6b9",
   "metadata": {},
   "source": [
    "Handle missing values and outliers"
   ]
  },
  {
   "cell_type": "code",
   "execution_count": 16,
   "id": "8637ac1d",
   "metadata": {},
   "outputs": [],
   "source": [
    "#Drop the values where donation amount is missing\n",
    "train.dropna(subset = ['sum'], inplace=True)\n",
    "\n",
    "#Reset the index after dropping\n",
    "train.reset_index(drop=True, inplace=True)\n",
    "\n",
    "#Fill Nan with 0 where applicable\n",
    "train['std'] = train['std'].fillna(0)\n",
    "train['donation_in_campaign_only'] = train['donation_in_campaign_only'].fillna(0)\n",
    "\n",
    "\n",
    "#Fill Nan in donation window columns\n",
    "train['donation_last5years'] = train['donation_last5years'].fillna(0)\n",
    "train['donation_last3years'] = train['donation_last3years'].fillna(0)\n",
    "train['donation_last1year'] = train['donation_last1year'].fillna(0)\n",
    "train['frequency_last5years'] = train['frequency_last5years'].fillna(0)\n",
    "train['frequency_last3years'] = train['frequency_last3years'].fillna(0)\n",
    "train['frequency_last1year'] = train['frequency_last1year'].fillna(0)\n",
    "\n",
    "\n",
    "#Treating outliers\n",
    "train[\"sum\"] = winsorize(np.array(train[\"sum\"]), limits=[0.00, 0.001])\n",
    "\n",
    "#Calculate client age at the time of campaign 6169\n",
    "#Reference = https://stackoverflow.com/questions/2217488/age-from-birthdate-in-python\n",
    "train['age'] = train['dateOfBirth'].apply(lambda d: 2018 - d.year)\n",
    "\n",
    "#Calculate age group\n",
    "train['age_group'] = 'Seniors'\n",
    "train.loc[(train['age'] >= 0) & (train['age'] <= 14), 'age_group'] = 'Children'\n",
    "train.loc[(train['age'] >= 15) & (train['age'] <= 24), 'age_group'] = 'Youth'\n",
    "train.loc[(train['age'] >= 25) & (train['age'] <= 64), 'age_group'] = 'Adults'\n",
    "\n",
    "#Make dummy variables for age group and drop original\n",
    "train = train.join(pd.get_dummies(train['age_group'], drop_first = False))\n",
    "train = train.drop(['age_group', 'Youth'], axis=1)\n",
    "\n",
    "#Drop unwanted columns\n",
    "train = train.drop(['dateOfBirth'], axis=1)\n"
   ]
  },
  {
   "cell_type": "markdown",
   "id": "29f148a9",
   "metadata": {},
   "source": [
    "Target Variable"
   ]
  },
  {
   "cell_type": "code",
   "execution_count": 17,
   "id": "1517c7d0",
   "metadata": {},
   "outputs": [],
   "source": [
    "#Creating target variable (people who actually donated to campaign 6169)\n",
    "gifts6169 = gifts[gifts['campaignID'] == 6169]\n",
    "\n",
    "#Convert the amount column to float\n",
    "gifts6169['amount'] = gifts6169['amount'].str.replace(',','.').astype(float)\n",
    "\n",
    "#Creating dummy for donors who donated greater than or equal to 30\n",
    "gifts6169[\"donated>30\"] = gifts6169['amount'].apply(lambda a: int(a >= 30))\n",
    "\n",
    "#Drop unnecessary columns\n",
    "gifts6169 = gifts6169.drop(['campaignID', 'amount', 'date'], axis=1) \n"
   ]
  },
  {
   "cell_type": "markdown",
   "id": "b5497800",
   "metadata": {},
   "source": [
    "Add Target Variable to Train"
   ]
  },
  {
   "cell_type": "code",
   "execution_count": 18,
   "id": "dfa54070",
   "metadata": {},
   "outputs": [],
   "source": [
    "#Merge train with the target variable\n",
    "train = pd.merge(train, gifts6169, how = 'left', on='donorID')\n",
    "\n",
    "#Fill the missing values in the target variable with 0. 1:donated more than 30; 0: donated less than 30 or not at all \n",
    "train['donated>30'] = train['donated>30'].fillna(0)\n",
    "train['donated>30'] = train['donated>30'].astype(int)"
   ]
  },
  {
   "cell_type": "code",
   "execution_count": 19,
   "id": "390e217b",
   "metadata": {},
   "outputs": [
    {
     "data": {
      "text/plain": [
       "0    33919\n",
       "1      950\n",
       "Name: donated>30, dtype: int64"
      ]
     },
     "execution_count": 19,
     "metadata": {},
     "output_type": "execute_result"
    }
   ],
   "source": [
    "train['donated>30'].value_counts()"
   ]
  },
  {
   "cell_type": "markdown",
   "id": "817be516",
   "metadata": {},
   "source": [
    "# Data Preparation - Test"
   ]
  },
  {
   "cell_type": "code",
   "execution_count": 20,
   "id": "0ba2da2e",
   "metadata": {},
   "outputs": [
    {
     "name": "stdout",
     "output_type": "stream",
     "text": [
      "(25645, 1)\n"
     ]
    },
    {
     "data": {
      "text/plain": [
       "354    25 645\n",
       "Name: lettersSent, dtype: object"
      ]
     },
     "execution_count": 20,
     "metadata": {},
     "output_type": "execute_result"
    }
   ],
   "source": [
    "#Crosscheck campaign and donor totals\n",
    "print(camp7244.shape)\n",
    "campaigns.loc[campaigns['campaignID'] == 7244, 'lettersSent']"
   ]
  },
  {
   "cell_type": "markdown",
   "id": "b4e3a82c",
   "metadata": {},
   "source": [
    "Merge Donors & Camp7244"
   ]
  },
  {
   "cell_type": "code",
   "execution_count": 21,
   "id": "6650918a",
   "metadata": {},
   "outputs": [],
   "source": [
    "#Merge donor and camp7244\n",
    "test = pd.merge(camp7244, donors, how = 'left', on = 'donorID')\n"
   ]
  },
  {
   "cell_type": "markdown",
   "id": "ac2c1dbd",
   "metadata": {},
   "source": [
    "Gifts Table"
   ]
  },
  {
   "cell_type": "code",
   "execution_count": 22,
   "id": "1a0c23e2",
   "metadata": {},
   "outputs": [],
   "source": [
    "#Filter the gifts dataset to only take data before May 18th 2019 (drop date is June)\n",
    "gifts['date'] = pd.to_datetime(gifts['date'], format=\"%Y/%m/%d\")\n",
    "\n",
    "gifts19 = gifts[gifts['date'] < '2019-05-18'].copy(deep=True)\n",
    "\n",
    "\n",
    "#Convert the amount column to float\n",
    "gifts19['amount'] = gifts19['amount'].str.replace(',','.').astype(float)\n",
    "\n",
    "\n",
    "#Extract the latest donation date for each donor\n",
    "latestdate = gifts19.groupby('donorID')['date'].agg('max')\n",
    "\n",
    "\n",
    "#Extract the first donation date for each donor\n",
    "firstdate = gifts19.groupby('donorID')['date'].agg('min')\n",
    "\n",
    "\n",
    "#Compute statistics on the gift amount per donor\n",
    "stats = gifts19.groupby('donorID')['amount'].agg(['count', 'sum', 'mean','std', 'min', 'max'])\n",
    "\n",
    "#merge gifts19 with latestdate, firstdate and stats\n",
    "\n",
    "gifts19 = pd.merge(gifts19, latestdate, how = 'left', on = 'donorID')\n",
    "\n",
    "gifts19 = pd.merge(gifts19, firstdate, how = 'left', on = 'donorID')\n",
    "\n",
    "gifts19 = pd.merge(gifts19, stats, how = 'left', on = 'donorID')\n",
    "\n",
    "\n",
    "\n",
    "#Rename Columns\n",
    "gifts19 = gifts19.rename(columns = {'date_x': 'date', 'date_y': 'latestdate', 'date': 'firstdate', 'count': 'frequency'})\n",
    "\n",
    "\n",
    "#Calculate Recency\n",
    "gifts19['recency'] =  gifts19['latestdate'].apply(lambda x: pd.to_datetime('2019-5-18', format=\"%Y/%m/%d\") - x)\n",
    "\n",
    "#Convert recency to integer\n",
    "#Refernce: https://stackoverflow.com/questions/25646200/python-convert-timedelta-to-int-in-a-dataframe\n",
    "gifts19['recency'] = gifts19['recency'].dt.days.astype('int16')\n",
    "\n",
    "\n",
    "#Calculate Active period (time between first and last donation)\n",
    "gifts19['active_period'] = gifts19['latestdate'] - gifts19['firstdate']\n",
    "\n",
    "#Convert active period to integer\n",
    "gifts19['active_period'] = gifts19['active_period'].dt.days.astype('int16')\n",
    "\n",
    "#Make dummy for frequency of donations greater than 30\n",
    "gifts19[\"freq_donated>30\"] = gifts19['amount'].apply(lambda a: int(a >= 30))\n",
    "\n",
    "\n",
    "#Calculate amount donated in campaigns only\n",
    "incampaignonly = sqldf.run(\"\"\"\n",
    "\n",
    "select\n",
    "\n",
    "DonorID, sum(amount) as donation_in_campaign_only\n",
    "\n",
    "from gifts19\n",
    "where campaignID IS NOT NULL\n",
    "group by DonorID\n",
    "\n",
    "\"\"\")\n",
    "\n",
    "#Merge gifts19 with incampaignonly\n",
    "gifts19 = pd.merge(gifts19, incampaignonly, how = 'left', on = 'donorID')\n",
    "\n",
    "\n",
    "#Drop unwanted column\n",
    "gifts19 = gifts19.drop(['amount', 'campaignID', 'date'], axis=1)   #drop campid and amoutn\n",
    "\n",
    "\n",
    "#Calculate donations in past 1 year\n",
    "\n",
    "gift_1year = gifts[(gifts['date'] > '2018-05-18') & (gifts['date'] < '2019-05-18')]\n",
    "\n",
    "gift_1year['amount'] = gift_1year['amount'].str.replace(',','.').astype(float)\n",
    "\n",
    "gift_1year = gift_1year.groupby('donorID')['amount'].agg(['sum', 'count'])\n",
    "\n",
    "gift_1year = gift_1year.rename(columns = {'sum': 'donation_last1year', 'count': 'frequency_last1year'})\n",
    "\n",
    "\n",
    "#Calculate donations in past 3 year\n",
    "\n",
    "gift_3year = gifts[(gifts['date'] > '2016-05-18') & (gifts['date'] < '2019-05-18')]\n",
    "\n",
    "gift_3year['amount'] = gift_3year['amount'].str.replace(',','.').astype(float)\n",
    "\n",
    "gift_3year = gift_3year.groupby('donorID')['amount'].agg(['sum' ,'count'])\n",
    "\n",
    "gift_3year = gift_3year.rename(columns = {'sum': 'donation_last3years', 'count': 'frequency_last3years'})\n",
    "\n",
    "\n",
    "#Calculate donations in past 5 years\n",
    "\n",
    "gift_5year = gifts[(gifts['date'] > '2014-05-18') & (gifts['date'] < '2019-05-18')]\n",
    "\n",
    "gift_5year['amount'] = gift_5year['amount'].str.replace(',','.').astype(float)\n",
    "\n",
    "gift_5year = gift_5year.groupby('donorID')['amount'].agg(['sum', 'count'])\n",
    "\n",
    "gift_5year = gift_5year.rename(columns = {'sum': 'donation_last5years', 'count': 'frequency_last5years'})\n",
    "\n",
    "#merge gifts19 with donations from last 1, 3, and 5 years\n",
    "\n",
    "gifts19 = pd.merge(gifts19, gift_1year, how = 'left', on = 'donorID')\n",
    "gifts19 = pd.merge(gifts19, gift_3year, how = 'left', on = 'donorID')\n",
    "gifts19 = pd.merge(gifts19, gift_5year, how = 'left', on = 'donorID')\n",
    "\n",
    "\n",
    "#Drop full duplicate columns\n",
    "gifts19.drop_duplicates(inplace=True, subset = ['donorID'])\n",
    "\n",
    "\n",
    "#Reset the index after dropping\n",
    "gifts19.reset_index(drop=True, inplace=True)\n"
   ]
  },
  {
   "cell_type": "markdown",
   "id": "244c1feb",
   "metadata": {},
   "source": [
    "Merge gifts with combined donors & camp7244"
   ]
  },
  {
   "cell_type": "code",
   "execution_count": 23,
   "id": "23a3953e",
   "metadata": {},
   "outputs": [],
   "source": [
    "#Merge gifts19 with the combined donors and camp7244 table\n",
    "test = pd.merge(test, gifts19, how = 'left', on='donorID')"
   ]
  },
  {
   "cell_type": "markdown",
   "id": "1572dbfd",
   "metadata": {},
   "source": [
    "Handle missing values and outliers"
   ]
  },
  {
   "cell_type": "code",
   "execution_count": 24,
   "id": "e3e033b2",
   "metadata": {},
   "outputs": [],
   "source": [
    "#Drop the values where donation amount is missing\n",
    "test.dropna(subset = ['sum'], inplace=True)\n",
    "\n",
    "#Reset the index after dropping\n",
    "test.reset_index(drop=True, inplace=True)\n",
    "\n",
    "#Fill Nan with 0 where applicable\n",
    "test['std'] = test['std'].fillna(0)\n",
    "test['donation_in_campaign_only'] = test['donation_in_campaign_only'].fillna(0)\n",
    "\n",
    "#Fill Nan in donation window columns\n",
    "test['donation_last5years'] = test['donation_last5years'].fillna(0)\n",
    "test['donation_last3years'] = test['donation_last3years'].fillna(0)\n",
    "test['donation_last1year'] = test['donation_last1year'].fillna(0)\n",
    "test['frequency_last5years'] = test['frequency_last5years'].fillna(0)\n",
    "test['frequency_last3years'] = test['frequency_last3years'].fillna(0)\n",
    "test['frequency_last1year'] = test['frequency_last1year'].fillna(0)\n",
    "\n",
    "#Treating outliers\n",
    "test[\"sum\"] = winsorize(np.array(test[\"sum\"]), limits=[0.00, 0.001])\n",
    "\n",
    "#Calculate client age at the time of campaign 7244\n",
    "#Reference = https://stackoverflow.com/questions/2217488/age-from-birthdate-in-python\n",
    "test['age'] = test['dateOfBirth'].apply(lambda d: 2019 - d.year)\n",
    "\n",
    "#Calculate age group\n",
    "test['age_group'] = 'Seniors'\n",
    "test.loc[(test['age'] >= 0) & (test['age'] <= 14), 'age_group'] = 'Children'\n",
    "test.loc[(test['age'] >= 15) & (test['age'] <= 24), 'age_group'] = 'Youth'\n",
    "test.loc[(test['age'] >= 25) & (test['age'] <= 64), 'age_group'] = 'Adults'\n",
    "\n",
    "#Make dummy variables for age group, drop original and one of the dummies\n",
    "test = test.join(pd.get_dummies(test['age_group'], drop_first = False))\n",
    "test = test.drop(['age_group', 'Youth'], axis=1)\n",
    "\n",
    "#Drop unwanted columns\n",
    "test = test.drop(['dateOfBirth'], axis=1)\n"
   ]
  },
  {
   "cell_type": "markdown",
   "id": "eab12953",
   "metadata": {},
   "source": [
    "Target Variable"
   ]
  },
  {
   "cell_type": "code",
   "execution_count": 25,
   "id": "82afa6ca",
   "metadata": {},
   "outputs": [],
   "source": [
    "#Creating target variable (people who actually donated to campaign 7244)\n",
    "gifts7244 = gifts[gifts['campaignID'] == 7244]\n",
    "\n",
    "#Convert the amount column to float\n",
    "gifts7244['amount'] = gifts7244['amount'].str.replace(',','.').astype(float)\n",
    "\n",
    "#Creating dummy for donors who donated greater than or equal to 30\n",
    "gifts7244[\"donated>30\"] = gifts7244['amount'].apply(lambda a: int(a >= 30))\n",
    "\n",
    "#Drop unnecessary columns\n",
    "gifts7244 = gifts7244.drop(['campaignID', 'amount', 'date'], axis=1) "
   ]
  },
  {
   "cell_type": "markdown",
   "id": "46d1c270",
   "metadata": {},
   "source": [
    "Add Target Variable to Test"
   ]
  },
  {
   "cell_type": "code",
   "execution_count": 26,
   "id": "8929f778",
   "metadata": {},
   "outputs": [],
   "source": [
    "#Merge test with the target variable\n",
    "test = pd.merge(test, gifts7244, how = 'left', on='donorID')\n",
    "\n",
    "#Fill the missing values in the target variable with 0. 1:donated more than 30; 0: donated less than 30 or not at all \n",
    "test['donated>30'] = test['donated>30'].fillna(0)\n",
    "test['donated>30'] = test['donated>30'].astype(int)"
   ]
  },
  {
   "cell_type": "code",
   "execution_count": 27,
   "id": "9fa5c158",
   "metadata": {},
   "outputs": [
    {
     "data": {
      "text/plain": [
       "0    25427\n",
       "1      217\n",
       "Name: donated>30, dtype: int64"
      ]
     },
     "execution_count": 27,
     "metadata": {},
     "output_type": "execute_result"
    }
   ],
   "source": [
    "test['donated>30'].value_counts()"
   ]
  },
  {
   "cell_type": "code",
   "execution_count": 28,
   "id": "cc19dd6e",
   "metadata": {},
   "outputs": [
    {
     "name": "stdout",
     "output_type": "stream",
     "text": [
      "prov_Antwerp - p-vlue = 0.7431823229055732 - selected : 0\n",
      "prov_Brussels - p-vlue = 0.09313763507233452 - selected : 0\n",
      "prov_East Flanders - p-vlue = 0.15991603033270246 - selected : 0\n",
      "prov_Flemish Brabant - p-vlue = 0.4689874963573519 - selected : 0\n",
      "prov_Hainaut - p-vlue = 0.03323577030220531 - selected : 1\n",
      "prov_Liege - p-vlue = 0.5117456926233549 - selected : 0\n",
      "prov_Limburg - p-vlue = 0.17927271136308384 - selected : 0\n",
      "prov_Luxembourg - p-vlue = 0.9749177801553895 - selected : 0\n",
      "prov_Namur - p-vlue = 0.6138383996790112 - selected : 0\n",
      "prov_Walloon Brabant - p-vlue = 0.015028458992795537 - selected : 1\n",
      "prov_West Flanders - p-vlue = 0.2931579398601259 - selected : 0\n",
      "Female - p-vlue = 3.876772241108561e-92 - selected : 1\n",
      "Male - p-vlue = 8.998212259741483e-92 - selected : 1\n",
      "lang_FR - p-vlue = 0.008246063599525288 - selected : 1\n",
      "lang_NL - p-vlue = 0.011135246101660772 - selected : 1\n",
      "frequency - p-vlue = 0.27365324533750257 - selected : 0\n",
      "sum - p-vlue = 9.928411931056958e-07 - selected : 1\n",
      "mean - p-vlue = 0.8197723874809101 - selected : 0\n",
      "std - p-vlue = 0.8670738673040667 - selected : 0\n",
      "min - p-vlue = 0.8735091400845624 - selected : 0\n",
      "max - p-vlue = 0.821616720705039 - selected : 0\n",
      "recency - p-vlue = 2.7907329692427665e-08 - selected : 1\n",
      "active_period - p-vlue = 9.514798961429748e-09 - selected : 1\n",
      "freq_donated>30 - p-vlue = 3.813003147181214e-34 - selected : 1\n",
      "donation_in_campaign_only - p-vlue = 0.9234510972445696 - selected : 0\n",
      "donation_last1year - p-vlue = 0.31036760033449434 - selected : 0\n",
      "frequency_last1year - p-vlue = 0.6921477268693982 - selected : 0\n",
      "donation_last3years - p-vlue = 0.020146751262761883 - selected : 1\n",
      "frequency_last3years - p-vlue = 0.8547974028480886 - selected : 0\n",
      "donation_last5years - p-vlue = 9.400787101214897e-07 - selected : 1\n",
      "frequency_last5years - p-vlue = 0.06817556398233157 - selected : 0\n",
      "age - p-vlue = 1.3171399383927233e-85 - selected : 1\n",
      "Adults - p-vlue = 1.9786326053856658e-54 - selected : 1\n",
      "Seniors - p-vlue = 2.256670118175722e-68 - selected : 1\n"
     ]
    }
   ],
   "source": [
    "selectedFeatures = []\n",
    "target = \"donated>30\"\n",
    "\n",
    "for column in train.columns:\n",
    "    if column not in (\"donorID\",\"donated>30\", \"latestdate\", \"firstdate\", \"prov_Missing\"):\n",
    "        (pearson,pvalue) = pearsonr(train[column],train[target])\n",
    "        print(f\"{column} - p-vlue = {pvalue} - selected : {1 if pvalue < 0.05 else 0}\")\n",
    "        if pvalue < 0.05:\n",
    "            selectedFeatures.append(column)"
   ]
  },
  {
   "cell_type": "code",
   "execution_count": 29,
   "id": "ea015845",
   "metadata": {},
   "outputs": [],
   "source": [
    "selectedFeatures.remove('Adults')\n",
    "selectedFeatures.remove('Seniors')\n",
    "selectedFeatures.extend(['prov_Antwerp', 'prov_Brussels', 'prov_East Flanders',\n",
    "       'prov_Flemish Brabant', 'prov_Liege', 'prov_Limburg',\n",
    "       'prov_Luxembourg', 'prov_Namur',\n",
    "       'prov_West Flanders'])"
   ]
  },
  {
   "cell_type": "code",
   "execution_count": 30,
   "id": "c6c4d0aa",
   "metadata": {},
   "outputs": [
    {
     "data": {
      "text/plain": [
       "['prov_Hainaut',\n",
       " 'prov_Walloon Brabant',\n",
       " 'Female',\n",
       " 'Male',\n",
       " 'lang_FR',\n",
       " 'lang_NL',\n",
       " 'sum',\n",
       " 'recency',\n",
       " 'active_period',\n",
       " 'freq_donated>30',\n",
       " 'donation_last3years',\n",
       " 'donation_last5years',\n",
       " 'age',\n",
       " 'prov_Antwerp',\n",
       " 'prov_Brussels',\n",
       " 'prov_East Flanders',\n",
       " 'prov_Flemish Brabant',\n",
       " 'prov_Liege',\n",
       " 'prov_Limburg',\n",
       " 'prov_Luxembourg',\n",
       " 'prov_Namur',\n",
       " 'prov_West Flanders']"
      ]
     },
     "execution_count": 30,
     "metadata": {},
     "output_type": "execute_result"
    }
   ],
   "source": [
    "selectedFeatures"
   ]
  },
  {
   "cell_type": "markdown",
   "id": "0089587f",
   "metadata": {},
   "source": [
    "# Logistic Regression"
   ]
  },
  {
   "cell_type": "code",
   "execution_count": 31,
   "id": "73d21b94",
   "metadata": {},
   "outputs": [
    {
     "name": "stdout",
     "output_type": "stream",
     "text": [
      "[[-4.04206986e-01 -2.42238413e-01 -7.54318080e-01 -2.13912560e+00\n",
      "  -1.55424619e+00 -1.37062281e+00 -1.44301536e-04 -3.88294613e-05\n",
      "   2.26030823e-04  8.96616596e-01 -9.51559006e-04  3.79289406e-04\n",
      "   3.53519816e-02 -3.13565513e-01 -4.12332922e-01 -1.94569288e-01\n",
      "  -2.06007957e-01 -2.59101587e-01 -4.13201302e-01 -9.77795409e-02\n",
      "  -1.49514343e-01 -2.34393174e-01]]\n",
      "[-2.93165314]\n"
     ]
    }
   ],
   "source": [
    "model = LogisticRegression(solver = \"lbfgs\", max_iter = 4000)\n",
    "\n",
    "model.fit(train[selectedFeatures],train[target])\n",
    "\n",
    "print(model.coef_)\n",
    "print(model.intercept_)\n"
   ]
  },
  {
   "cell_type": "code",
   "execution_count": 32,
   "id": "160fb788",
   "metadata": {},
   "outputs": [],
   "source": [
    "# predict probabilities\n",
    "\n",
    "LR_pred_train = model.predict_proba(train[selectedFeatures])\n",
    "LR_pred_test =  model.predict_proba(test[selectedFeatures])\n",
    "\n",
    "train[\"lr proba donate\"] = pd.DataFrame(LR_pred_train)[1]\n",
    "test[\"lr proba donate\"] = pd.DataFrame(LR_pred_test)[1]"
   ]
  },
  {
   "cell_type": "code",
   "execution_count": 33,
   "id": "1230c76a",
   "metadata": {},
   "outputs": [
    {
     "name": "stdout",
     "output_type": "stream",
     "text": [
      "AUC Train: 0.7658833350660476\n",
      "AUC Test: 0.650598016296404\n"
     ]
    }
   ],
   "source": [
    "#AUC\n",
    "LR_aucTrain = roc_auc_score(np.array(train[target]),np.array(train[\"lr proba donate\"]))\n",
    "LR_aucTest = roc_auc_score(np.array(test[target]),np.array(test[\"lr proba donate\"]))\n",
    "\n",
    "print(\"AUC Train:\", LR_aucTrain)\n",
    "print(\"AUC Test:\", LR_aucTest)"
   ]
  },
  {
   "cell_type": "code",
   "execution_count": 34,
   "id": "0aff7d1e",
   "metadata": {},
   "outputs": [],
   "source": [
    "from sklearn.metrics    import roc_curve\n",
    "\n",
    "def roc (dataSet: DataFrame, actuals: str, probability: str) -> DataFrame:\n",
    "\n",
    "    (fpr,tpr,threshold) = roc_curve(array(dataSet[actuals]), array(dataSet[probability]), pos_label = 1)\n",
    "\n",
    "    returnData = DataFrame(tpr)\n",
    "    returnData.columns = [\"True positive rate\"]\n",
    "    returnData[\"False positive rate\"] = DataFrame(fpr)\n",
    "\n",
    "    return returnData"
   ]
  },
  {
   "cell_type": "code",
   "execution_count": 35,
   "id": "fd7393b9",
   "metadata": {},
   "outputs": [
    {
     "data": {
      "text/plain": [
       "Text(0.5, 1.0, 'Receiver Operating Characteristic')"
      ]
     },
     "execution_count": 35,
     "metadata": {},
     "output_type": "execute_result"
    },
    {
     "data": {
      "image/png": "[encoded data removed]",
      "text/plain": [
       "<Figure size 432x288 with 1 Axes>"
      ]
     },
     "metadata": {
      "needs_background": "light"
     },
     "output_type": "display_data"
    }
   ],
   "source": [
    "#ROC Curve\n",
    "\n",
    "rocTest     = roc(dataSet = test,     actuals = \"donated>30\", probability = \"lr proba donate\")\n",
    "\n",
    "pyplot.plot(rocTest[\"False positive rate\"], rocTest[\"True positive rate\"])\n",
    "pyplot.plot([0, 1], [0, 1], 'k--')\n",
    "pyplot.xlim([0.0, 1.0])\n",
    "pyplot.ylim([0.0, 1.0])\n",
    "pyplot.xlabel(\"False Positive Rate or (1 - Specifity)\")\n",
    "pyplot.ylabel(\"True Positive Rate or (Sensitivity)\")\n",
    "pyplot.title(\"Receiver Operating Characteristic\")"
   ]
  },
  {
   "cell_type": "code",
   "execution_count": 36,
   "id": "b36e5e15",
   "metadata": {},
   "outputs": [
    {
     "data": {
      "text/plain": [
       "Text(69.0, 0.5, 'Truth')"
      ]
     },
     "execution_count": 36,
     "metadata": {},
     "output_type": "execute_result"
    },
    {
     "data": {
      "image/png": "[encoded data removed]",
      "text/plain": [
       "<Figure size 720x504 with 2 Axes>"
      ]
     },
     "metadata": {
      "needs_background": "light"
     },
     "output_type": "display_data"
    }
   ],
   "source": [
    "import tensorflow as tf\n",
    "\n",
    "import seaborn as sn\n",
    "\n",
    "\n",
    "\n",
    "pred = np.where(test[\"lr proba donate\"]>0.2,1,0)\n",
    "\n",
    "\n",
    "\n",
    "matrix = tf.math.confusion_matrix(labels=test[target],predictions=pred)\n",
    "\n",
    "\n",
    "\n",
    "plt.figure(figsize = (10,7))\n",
    "\n",
    "sn.heatmap(matrix, annot=True, fmt='d')\n",
    "\n",
    "plt.xlabel('Predicted')\n",
    "\n",
    "plt.ylabel('Truth')"
   ]
  },
  {
   "cell_type": "markdown",
   "id": "2b095ec8",
   "metadata": {},
   "source": [
    "# Random Forest"
   ]
  },
  {
   "cell_type": "code",
   "execution_count": 37,
   "id": "25fc6990",
   "metadata": {},
   "outputs": [
    {
     "data": {
      "text/plain": [
       "RandomForestClassifier(max_depth=3)"
      ]
     },
     "execution_count": 37,
     "metadata": {},
     "output_type": "execute_result"
    }
   ],
   "source": [
    "rf = RandomForestClassifier(max_depth=3)\n",
    "\n",
    "rf.fit(train[selectedFeatures],train[target])"
   ]
  },
  {
   "cell_type": "code",
   "execution_count": 38,
   "id": "0932f4a9",
   "metadata": {},
   "outputs": [],
   "source": [
    "# predict probabilities\n",
    "\n",
    "RF_pred_train = rf.predict_proba(train[selectedFeatures])\n",
    "RF_pred_test =  rf.predict_proba(test[selectedFeatures])\n",
    "\n",
    "train[\"rf proba donate\"] = pd.DataFrame(RF_pred_train)[1]\n",
    "test[\"rf proba donate\"] = pd.DataFrame(RF_pred_test)[1]\n",
    "\n"
   ]
  },
  {
   "cell_type": "code",
   "execution_count": 39,
   "id": "00f20c11",
   "metadata": {},
   "outputs": [
    {
     "name": "stdout",
     "output_type": "stream",
     "text": [
      "RF AUC Train: 0.8015969313891764\n",
      "RF AUC Test: 0.6759736330208156\n"
     ]
    }
   ],
   "source": [
    "#AUC\n",
    "RF_aucTrain = roc_auc_score(np.array(train[target]),np.array(train[\"rf proba donate\"]))\n",
    "RF_aucTest = roc_auc_score(np.array(test[target]),np.array(test[\"rf proba donate\"]))\n",
    "\n",
    "print(\"RF AUC Train:\", RF_aucTrain)\n",
    "print(\"RF AUC Test:\", RF_aucTest)"
   ]
  },
  {
   "cell_type": "code",
   "execution_count": 40,
   "id": "cb49ca72",
   "metadata": {},
   "outputs": [
    {
     "data": {
      "text/plain": [
       "Text(0.5, 1.0, 'Receiver Operating Characteristic')"
      ]
     },
     "execution_count": 40,
     "metadata": {},
     "output_type": "execute_result"
    },
    {
     "data": {
      "image/png": "[encoded data removed]",
      "text/plain": [
       "<Figure size 432x288 with 1 Axes>"
      ]
     },
     "metadata": {
      "needs_background": "light"
     },
     "output_type": "display_data"
    }
   ],
   "source": [
    "#ROC Curve\n",
    "\n",
    "rocTest     = roc(dataSet = test,     actuals = \"donated>30\", probability = \"rf proba donate\")\n",
    "\n",
    "pyplot.plot(rocTest[\"False positive rate\"], rocTest[\"True positive rate\"])\n",
    "pyplot.plot([0, 1], [0, 1], 'k--')\n",
    "pyplot.xlim([0.0, 1.0])\n",
    "pyplot.ylim([0.0, 1.0])\n",
    "pyplot.xlabel(\"False Positive Rate or (1 - Specifity)\")\n",
    "pyplot.ylabel(\"True Positive Rate or (Sensitivity)\")\n",
    "pyplot.title(\"Receiver Operating Characteristic\")"
   ]
  },
  {
   "cell_type": "markdown",
   "id": "b06373c2",
   "metadata": {},
   "source": [
    "# Boosted Tree"
   ]
  },
  {
   "cell_type": "code",
   "execution_count": 41,
   "id": "9dcf94c6",
   "metadata": {},
   "outputs": [
    {
     "data": {
      "text/plain": [
       "GradientBoostingClassifier()"
      ]
     },
     "execution_count": 41,
     "metadata": {},
     "output_type": "execute_result"
    }
   ],
   "source": [
    "boostedTree  = GradientBoostingClassifier()\n",
    "boostedTree.fit(train[selectedFeatures],train[target])"
   ]
  },
  {
   "cell_type": "code",
   "execution_count": 42,
   "id": "a9505e8e",
   "metadata": {},
   "outputs": [],
   "source": [
    "# predict probabilities\n",
    "\n",
    "BT_pred_train = boostedTree.predict_proba(train[selectedFeatures])\n",
    "BT_pred_test =  boostedTree.predict_proba(test[selectedFeatures])\n",
    "\n",
    "train[\"bt proba donate\"] = pd.DataFrame(BT_pred_train)[1]\n",
    "test[\"bt proba donate\"] = pd.DataFrame(BT_pred_test)[1]"
   ]
  },
  {
   "cell_type": "code",
   "execution_count": 43,
   "id": "b7f9c2c5",
   "metadata": {},
   "outputs": [
    {
     "name": "stdout",
     "output_type": "stream",
     "text": [
      "AUC Train: 0.9298930889534045\n",
      "AUC Test: 0.6784690753814253\n"
     ]
    }
   ],
   "source": [
    "#AUC\n",
    "BT_aucTrain = roc_auc_score(np.array(train[target]),np.array(train[\"bt proba donate\"]))\n",
    "BT_aucTest = roc_auc_score(np.array(test[target]),np.array(test[\"bt proba donate\"]))\n",
    "\n",
    "print(\"AUC Train:\", BT_aucTrain)\n",
    "print(\"AUC Test:\", BT_aucTest)"
   ]
  },
  {
   "cell_type": "code",
   "execution_count": 44,
   "id": "cf43a156",
   "metadata": {},
   "outputs": [
    {
     "data": {
      "text/plain": [
       "Text(0.5, 1.0, 'Receiver Operating Characteristic')"
      ]
     },
     "execution_count": 44,
     "metadata": {},
     "output_type": "execute_result"
    },
    {
     "data": {
      "image/png": "[encoded data removed]",
      "text/plain": [
       "<Figure size 432x288 with 1 Axes>"
      ]
     },
     "metadata": {
      "needs_background": "light"
     },
     "output_type": "display_data"
    }
   ],
   "source": [
    "#ROC Curve\n",
    "\n",
    "rocTest     = roc(dataSet = test,     actuals = \"donated>30\", probability = \"bt proba donate\")\n",
    "\n",
    "pyplot.plot(rocTest[\"False positive rate\"], rocTest[\"True positive rate\"])\n",
    "pyplot.plot([0, 1], [0, 1], 'k--')\n",
    "pyplot.xlim([0.0, 1.0])\n",
    "pyplot.ylim([0.0, 1.0])\n",
    "pyplot.xlabel(\"False Positive Rate or (1 - Specifity)\")\n",
    "pyplot.ylabel(\"True Positive Rate or (Sensitivity)\")\n",
    "pyplot.title(\"Receiver Operating Characteristic\")"
   ]
  },
  {
   "cell_type": "markdown",
   "id": "b92d59e4",
   "metadata": {},
   "source": [
    "# Lift, Gain, & Response for the Selected Logistic Regression Model"
   ]
  },
  {
   "cell_type": "markdown",
   "id": "ccbc938e",
   "metadata": {},
   "source": [
    "Functions"
   ]
  },
  {
   "cell_type": "code",
   "execution_count": 45,
   "id": "52387632",
   "metadata": {},
   "outputs": [],
   "source": [
    "def equifrequentBinning (dataSet: DataFrame, byColumn: str, into: int) -> DataFrame:\n",
    "\n",
    "    internalSet = dataSet\n",
    "\n",
    "    quanitles = []\n",
    "\n",
    "    for i in range(into):\n",
    "        quanitles.append(1 / into * (i))\n",
    "\n",
    "    quantile = internalSet.quantile(quanitles, axis = 0)[byColumn].to_dict()\n",
    "\n",
    "    internalSet[\"Bin\"] = 0\n",
    "\n",
    "    for q in quantile:\n",
    "        upperBound = quantile[q]\n",
    "        internalSet.loc[internalSet[byColumn] >= upperBound, byColumn + \"_bin\"] = int(q * into +1)\n",
    "\n",
    "    return internalSet\n",
    "\n",
    "\n",
    "def lift (dataSet: DataFrame, actuals: str, probability: str, precision: int = 20) -> DataFrame:\n",
    "\n",
    "    summary = cumulativeResponse(dataSet = dataSet, actuals = actuals, probability = probability, precision = precision)\n",
    "\n",
    "    summary[\"Lift\"] = summary[\"Cumulative response\"] / Series(summary[\"Average response\"]).max()\n",
    "    summary[\"Base\"] = summary[\"Average response\"] / Series(summary[\"Average response\"]).max()\n",
    "\n",
    "    return summary[[\"Quantile\",\"Lift\",\"Base\"]]\n",
    "\n",
    "def cumulativeResponse (dataSet: DataFrame, actuals: str, probability: str, precision: int = 20) -> DataFrame:\n",
    "\n",
    "    internalSet = equifrequentBinning (dataSet = dataSet[[actuals, probability]], byColumn = probability, into = precision)\n",
    "\n",
    "    internalSet[\"Quantile\"] = internalSet[probability + \"_bin\"] / precision\n",
    "    internalSet[\"obs\"]      = 1\n",
    "\n",
    "    summary = internalSet[[\"Quantile\", actuals, \"obs\"]].groupby([\"Quantile\"], as_index = False).sum().sort_values(by = \"Quantile\", ascending = False)\n",
    "\n",
    "    summary[\"cumulativeTarget\"]     = Series(summary[actuals]).cumsum(skipna = False)\n",
    "    summary[\"cumulativeAll\"]        = Series(summary[\"obs\"]).cumsum(skipna = False)\n",
    "    summary[\"Cumulative response\"]  = summary[\"cumulativeTarget\"] / summary[\"cumulativeAll\"]\n",
    "    summary[\"Average response\"]     = Series(summary[\"cumulativeTarget\"]).max() / Series(summary[\"cumulativeAll\"]).max()\n",
    "\n",
    "    return summary[[\"Quantile\",\"Cumulative response\",\"Average response\"]]\n",
    "\n",
    "def cumulativeGains (dataSet: DataFrame, actuals: str, probability: str, precision: int = 20) -> DataFrame:\n",
    "\n",
    "    internalSet = equifrequentBinning (dataSet = dataSet[[actuals, probability]], byColumn = probability, into = precision)\n",
    "\n",
    "    internalSet[\"Quantile\"] = internalSet[probability + \"_bin\"] / precision\n",
    "    internalSet[\"obs\"]      = 1\n",
    "\n",
    "    summary = internalSet[[\"Quantile\", actuals, \"obs\"]].groupby([\"Quantile\"], as_index = False).sum().sort_values(by = \"Quantile\", ascending = False)\n",
    "\n",
    "    summary[\"cumulativeTarget\"]     = Series(summary[actuals]).cumsum(skipna = False)\n",
    "    summary[\"cumulativeAll\"]        = Series(summary[\"obs\"]).cumsum(skipna = False)\n",
    "    summary[\"Cumulative gains\"]     = summary[\"cumulativeTarget\"] / Series(summary[\"cumulativeTarget\"]).max()\n",
    "    summary[\"Base\"]                 = summary[\"Quantile\"]\n",
    "\n",
    "    return summary[[\"Quantile\",\"Cumulative gains\",\"Base\"]]\n",
    "\n",
    "\n"
   ]
  },
  {
   "cell_type": "code",
   "execution_count": 46,
   "id": "38419ec3",
   "metadata": {},
   "outputs": [],
   "source": [
    "CumulativeResponse = cumulativeResponse (test, \"donated>30\", \"lr proba donate\")"
   ]
  },
  {
   "cell_type": "code",
   "execution_count": 47,
   "id": "9d99621d",
   "metadata": {},
   "outputs": [],
   "source": [
    "CumulativeGains = cumulativeGains(test, \"donated>30\", \"lr proba donate\")"
   ]
  },
  {
   "cell_type": "code",
   "execution_count": 48,
   "id": "1ec3f98f",
   "metadata": {},
   "outputs": [],
   "source": [
    "Lift = lift(test, \"donated>30\", \"lr proba donate\")"
   ]
  },
  {
   "cell_type": "code",
   "execution_count": 49,
   "id": "0c705be0",
   "metadata": {},
   "outputs": [
    {
     "data": {
      "text/plain": [
       "Text(0.5, 1.0, 'Lift')"
      ]
     },
     "execution_count": 49,
     "metadata": {},
     "output_type": "execute_result"
    },
    {
     "data": {
      "image/png": "[encoded data removed]",
      "text/plain": [
       "<Figure size 432x288 with 1 Axes>"
      ]
     },
     "metadata": {
      "needs_background": "light"
     },
     "output_type": "display_data"
    }
   ],
   "source": [
    "pyplot.plot(Lift[\"Quantile\"], Lift[\"Lift\"])\n",
    "plt.gca().invert_xaxis()\n",
    "pyplot.xlabel(\"Quantile\")\n",
    "pyplot.ylabel(\"lift\")\n",
    "pyplot.title(\"Lift\")"
   ]
  },
  {
   "cell_type": "code",
   "execution_count": 50,
   "id": "8e93210e",
   "metadata": {},
   "outputs": [
    {
     "data": {
      "text/plain": [
       "Text(0.5, 1.0, 'Cumulative Gains')"
      ]
     },
     "execution_count": 50,
     "metadata": {},
     "output_type": "execute_result"
    },
    {
     "data": {
      "image/png": "[encoded data removed]",
      "text/plain": [
       "<Figure size 432x288 with 1 Axes>"
      ]
     },
     "metadata": {
      "needs_background": "light"
     },
     "output_type": "display_data"
    }
   ],
   "source": [
    "pyplot.plot(CumulativeGains[\"Quantile\"], CumulativeGains[\"Cumulative gains\"])\n",
    "pyplot.gca().invert_xaxis()\n",
    "pyplot.xlabel(\"Quantile\")\n",
    "pyplot.ylabel(\"Cumulative Gains\")\n",
    "pyplot.title(\"Cumulative Gains\")"
   ]
  },
  {
   "cell_type": "markdown",
   "id": "c667cf53",
   "metadata": {},
   "source": [
    "# Scoring the New Campaign Data"
   ]
  },
  {
   "cell_type": "code",
   "execution_count": 51,
   "id": "dec28caf",
   "metadata": {},
   "outputs": [],
   "source": [
    "#Import the new campaign data\n",
    "score = pd.read_csv(\"new_campaign_selection.csv\")"
   ]
  },
  {
   "cell_type": "markdown",
   "id": "849a8a69",
   "metadata": {},
   "source": [
    "Merge Donors & New Campaign 7362"
   ]
  },
  {
   "cell_type": "code",
   "execution_count": 52,
   "id": "a1d1bb95",
   "metadata": {},
   "outputs": [],
   "source": [
    "#Merge donor and camp7362\n",
    "score = pd.merge(score, donors, how = 'left', on = 'donorID')"
   ]
  },
  {
   "cell_type": "markdown",
   "id": "f77cef99",
   "metadata": {},
   "source": [
    "Gifts Table"
   ]
  },
  {
   "cell_type": "code",
   "execution_count": 53,
   "id": "af9fd0e8",
   "metadata": {},
   "outputs": [],
   "source": [
    "#Filter the gifts dataset to only take data before January 1st 2020 (drop date is Feb)\n",
    "gifts['date'] = pd.to_datetime(gifts['date'], format=\"%Y/%m/%d\")\n",
    "\n",
    "gifts20 = gifts[gifts['date'] < '2020-01-01'].copy(deep=True)\n",
    "\n",
    "\n",
    "#Convert the amount column to float\n",
    "gifts20['amount'] = gifts20['amount'].str.replace(',','.').astype(float)\n",
    "\n",
    "\n",
    "#Extract the latest donation date for each donor\n",
    "latestdate = gifts20.groupby('donorID')['date'].agg('max')\n",
    "\n",
    "\n",
    "#Extract the first donation date for each donor\n",
    "firstdate = gifts20.groupby('donorID')['date'].agg('min')\n",
    "\n",
    "\n",
    "#Compute statistics on the gift amount per donor\n",
    "stats = gifts20.groupby('donorID')['amount'].agg(['count', 'sum', 'mean','std', 'min', 'max'])\n",
    "\n",
    "#merge gifts20 with latestdate, firstdate and stats\n",
    "\n",
    "gifts20 = pd.merge(gifts20, latestdate, how = 'left', on = 'donorID')\n",
    "\n",
    "gifts20 = pd.merge(gifts20, firstdate, how = 'left', on = 'donorID')\n",
    "\n",
    "gifts20 = pd.merge(gifts20, stats, how = 'left', on = 'donorID')\n",
    "\n",
    "\n",
    "\n",
    "#Rename Columns\n",
    "gifts20 = gifts20.rename(columns = {'date_x': 'date', 'date_y': 'latestdate', 'date': 'firstdate', 'count': 'frequency'})\n",
    "\n",
    "\n",
    "#Calculate Recency\n",
    "gifts20['recency'] =  gifts20['latestdate'].apply(lambda x: pd.to_datetime('2020-01-01', format=\"%Y/%m/%d\") - x)\n",
    "\n",
    "#Convert recency to integer\n",
    "#Refernce: https://stackoverflow.com/questions/25646200/python-convert-timedelta-to-int-in-a-dataframe\n",
    "gifts20['recency'] = gifts20['recency'].dt.days.astype('int16')\n",
    "\n",
    "\n",
    "#Calculate Active period (time between first and last donation)\n",
    "gifts20['active_period'] = gifts20['latestdate'] - gifts20['firstdate']\n",
    "\n",
    "#Convert active period to integer\n",
    "gifts20['active_period'] = gifts20['active_period'].dt.days.astype('int16')\n",
    "\n",
    "#Make dummy for frequency of donations greater than 30\n",
    "gifts20[\"freq_donated>30\"] = gifts20['amount'].apply(lambda a: int(a >= 30))\n",
    "\n",
    "\n",
    "#Calculate amount donated in campaigns only\n",
    "incampaignonly = sqldf.run(\"\"\"\n",
    "\n",
    "select\n",
    "\n",
    "DonorID, sum(amount) as donation_in_campaign_only\n",
    "\n",
    "from gifts20\n",
    "where campaignID IS NOT NULL\n",
    "group by DonorID\n",
    "\n",
    "\"\"\")\n",
    "\n",
    "#Merge gifts20 with incampaignonly\n",
    "gifts20 = pd.merge(gifts20, incampaignonly, how = 'left', on = 'donorID')\n",
    "\n",
    "\n",
    "#Drop unwanted column\n",
    "gifts20 = gifts20.drop(['amount', 'campaignID', 'date'], axis=1) \n",
    "\n",
    "\n",
    "#Calculate donations in past 1 year\n",
    "\n",
    "gift_1year = gifts[(gifts['date'] > '2019-01-01') & (gifts['date'] < '2020-01-01')]\n",
    "\n",
    "gift_1year['amount'] = gift_1year['amount'].str.replace(',','.').astype(float)\n",
    "\n",
    "gift_1year = gift_1year.groupby('donorID')['amount'].agg(['sum', 'count'])\n",
    "\n",
    "gift_1year = gift_1year.rename(columns = {'sum': 'donation_last1year', 'count': 'frequency_last1year'})\n",
    "\n",
    "\n",
    "#Calculate donations in past 3 year\n",
    "\n",
    "gift_3year = gifts[(gifts['date'] > '2017-01-01') & (gifts['date'] < '2020-01-01')]\n",
    "\n",
    "gift_3year['amount'] = gift_3year['amount'].str.replace(',','.').astype(float)\n",
    "\n",
    "gift_3year = gift_3year.groupby('donorID')['amount'].agg(['sum' ,'count'])\n",
    "\n",
    "gift_3year = gift_3year.rename(columns = {'sum': 'donation_last3years', 'count': 'frequency_last3years'})\n",
    "\n",
    "\n",
    "#Calculate donations in past 5 years\n",
    "\n",
    "gift_5year = gifts[(gifts['date'] > '2015-01-01') & (gifts['date'] < '2020-01-01')]\n",
    "\n",
    "gift_5year['amount'] = gift_5year['amount'].str.replace(',','.').astype(float)\n",
    "\n",
    "gift_5year = gift_5year.groupby('donorID')['amount'].agg(['sum', 'count'])\n",
    "\n",
    "gift_5year = gift_5year.rename(columns = {'sum': 'donation_last5years', 'count': 'frequency_last5years'})\n",
    "\n",
    "#merge gifts20 with donations from last 1, 3, and 5 years\n",
    "\n",
    "gifts20 = pd.merge(gifts20, gift_1year, how = 'left', on = 'donorID')\n",
    "gifts20 = pd.merge(gifts20, gift_3year, how = 'left', on = 'donorID')\n",
    "gifts20 = pd.merge(gifts20, gift_5year, how = 'left', on = 'donorID')\n",
    "\n",
    "\n",
    "#Drop full duplicate columns\n",
    "gifts20.drop_duplicates(inplace=True, subset = ['donorID'])\n",
    "\n",
    "\n",
    "#Reset the index after dropping\n",
    "gifts20.reset_index(drop=True, inplace=True)"
   ]
  },
  {
   "cell_type": "markdown",
   "id": "ca69a2ef",
   "metadata": {},
   "source": [
    "Merge gifts20 with combined donor and new campaign data (7362)"
   ]
  },
  {
   "cell_type": "code",
   "execution_count": 54,
   "id": "70815b92",
   "metadata": {},
   "outputs": [],
   "source": [
    "#Merge gifts20 with the combined donors and camp7362 table\n",
    "score = pd.merge(score, gifts20, how = 'left', on='donorID')"
   ]
  },
  {
   "cell_type": "markdown",
   "id": "f40b0bd9",
   "metadata": {},
   "source": [
    "Handle missing values and outliers"
   ]
  },
  {
   "cell_type": "code",
   "execution_count": 55,
   "id": "78d9ba8d",
   "metadata": {},
   "outputs": [],
   "source": [
    "#Drop the values where donation amount is missing\n",
    "score.dropna(subset = ['sum'], inplace=True)\n",
    "\n",
    "#Reset the index after dropping\n",
    "score.reset_index(drop=True, inplace=True)\n",
    "\n",
    "#Fill Nan with 0 where applicable\n",
    "score['std'] = score['std'].fillna(0)\n",
    "score['donation_in_campaign_only'] = score['donation_in_campaign_only'].fillna(0)\n",
    "\n",
    "#Fill Nan in donation window columns\n",
    "score['donation_last5years'] = score['donation_last5years'].fillna(0)\n",
    "score['donation_last3years'] = score['donation_last3years'].fillna(0)\n",
    "score['donation_last1year'] = score['donation_last1year'].fillna(0)\n",
    "score['frequency_last5years'] = score['frequency_last5years'].fillna(0)\n",
    "score['frequency_last3years'] = score['frequency_last3years'].fillna(0)\n",
    "score['frequency_last1year'] = score['frequency_last1year'].fillna(0)\n",
    "\n",
    "#Treating outliers\n",
    "score[\"sum\"] = winsorize(np.array(score[\"sum\"]), limits=[0.00, 0.001])\n",
    "\n",
    "#Calculate client age at the time of campaign 7362\n",
    "#Reference = https://stackoverflow.com/questions/2217488/age-from-birthdate-in-python\n",
    "score['age'] = score['dateOfBirth'].apply(lambda d: 2020 - d.year)\n",
    "\n",
    "#Calculate age group\n",
    "score['age_group'] = 'Seniors'\n",
    "score.loc[(score['age'] >= 0) & (score['age'] <= 14), 'age_group'] = 'Children'\n",
    "score.loc[(score['age'] >= 15) & (score['age'] <= 24), 'age_group'] = 'Youth'\n",
    "score.loc[(score['age'] >= 25) & (score['age'] <= 64), 'age_group'] = 'Adults'\n",
    "\n",
    "#Make dummy variables for age group, drop original and one of the dummies\n",
    "score = score.join(pd.get_dummies(score['age_group'], drop_first = False))\n",
    "score = score.drop(['age_group', 'Youth'], axis=1)\n",
    "\n",
    "#Drop unwanted columns\n",
    "score = score.drop(['dateOfBirth'], axis=1)\n"
   ]
  },
  {
   "cell_type": "markdown",
   "id": "84a69956",
   "metadata": {},
   "source": [
    "Predict Probability of Donation "
   ]
  },
  {
   "cell_type": "code",
   "execution_count": 56,
   "id": "ce53169e",
   "metadata": {},
   "outputs": [],
   "source": [
    "score[\"proba_donation\"] = pd.DataFrame(model.predict_proba(score[selectedFeatures]))[1]"
   ]
  },
  {
   "cell_type": "code",
   "execution_count": 57,
   "id": "bd4fc8cd",
   "metadata": {},
   "outputs": [],
   "source": [
    "score = score[['donorID', 'proba_donation']]"
   ]
  },
  {
   "cell_type": "code",
   "execution_count": 58,
   "id": "3a9de212",
   "metadata": {},
   "outputs": [],
   "source": [
    "score.to_csv('Score.csv', index=False)"
   ]
  },
  {
   "cell_type": "markdown",
   "id": "208a7a4c",
   "metadata": {},
   "source": [
    "# Profiling"
   ]
  },
  {
   "cell_type": "markdown",
   "id": "da7174de",
   "metadata": {},
   "source": [
    "Based on Test Set"
   ]
  },
  {
   "cell_type": "code",
   "execution_count": 59,
   "id": "82374157",
   "metadata": {},
   "outputs": [],
   "source": [
    "donors1 = pd.read_csv(\"donors.csv\")\n",
    "#Good donors: Gender, province and language\n",
    "good_donors = test[test['lr proba donate']> 0.2]\n",
    "good_donors_ids = pd.DataFrame(good_donors['donorID'])\n",
    "good_donors = pd.merge(good_donors_ids, donors1, how='left', on= 'donorID')\n"
   ]
  },
  {
   "cell_type": "code",
   "execution_count": 60,
   "id": "b2b7c667",
   "metadata": {},
   "outputs": [
    {
     "data": {
      "image/png": "[encoded data removed]",
      "text/plain": [
       "<Figure size 432x288 with 1 Axes>"
      ]
     },
     "metadata": {
      "needs_background": "light"
     },
     "output_type": "display_data"
    }
   ],
   "source": [
    "#Gender of good donors\n",
    "good_donors['gender']=good_donors['gender'].replace({'F': 'Female','M': 'Male'})\n",
    "gender = good_donors['gender'].value_counts()\n",
    "plt.barh(gender.index, width=gender)\n",
    "plt.title('Gender')\n",
    "plt.xlabel('Number of donors')\n",
    "plt.xticks(rotation = 90)\n",
    "plt.show()"
   ]
  },
  {
   "cell_type": "code",
   "execution_count": 61,
   "id": "3fa5ee19",
   "metadata": {},
   "outputs": [
    {
     "data": {
      "image/png": "[encoded data removed]",
      "text/plain": [
       "<Figure size 432x288 with 1 Axes>"
      ]
     },
     "metadata": {},
     "output_type": "display_data"
    }
   ],
   "source": [
    "#language of good donors\n",
    "good_donors['language']=good_donors['language'].replace({'NL': 'Dutch','EN': 'English', 'FR': 'French' })\n",
    "language =good_donors ['language'].value_counts(normalize=True)\n",
    "plt.pie(language, labels=language.index, autopct='%1.1f%%')\n",
    "labels = ['English', 'French', 'NL']\n",
    "plt.title('Language')\n",
    "plt.show()"
   ]
  },
  {
   "cell_type": "code",
   "execution_count": 62,
   "id": "e8f25432",
   "metadata": {},
   "outputs": [
    {
     "data": {
      "image/png": "[encoded data removed]",
      "text/plain": [
       "<Figure size 432x288 with 1 Axes>"
      ]
     },
     "metadata": {
      "needs_background": "light"
     },
     "output_type": "display_data"
    }
   ],
   "source": [
    "#Provinces in which good donors live\n",
    "plt.hist(good_donors['province'], bins=50)\n",
    "plt.title('Provinces')\n",
    "plt.xticks(good_donors['province'], rotation='vertical')\n",
    "plt.ylabel('Number of donors')\n",
    "plt.show()"
   ]
  },
  {
   "cell_type": "code",
   "execution_count": 63,
   "id": "b286a876",
   "metadata": {},
   "outputs": [
    {
     "data": {
      "image/png": "[encoded data removed]",
      "text/plain": [
       "<Figure size 432x288 with 1 Axes>"
      ]
     },
     "metadata": {
      "needs_background": "light"
     },
     "output_type": "display_data"
    }
   ],
   "source": [
    "# Age of good donors\n",
    "good_donors = test[test['lr proba donate']> 0.2 ] \n",
    "good__donors = good_donors[good_donors['age']< 100]\n",
    "plt.hist(good__donors['age'], bins = 15)\n",
    "plt.title('Age ')\n",
    "plt.xlabel('Age')\n",
    "plt.ylabel('Number of donors')\n",
    "plt.show()"
   ]
  },
  {
   "cell_type": "code",
   "execution_count": 64,
   "id": "27d98bd1",
   "metadata": {},
   "outputs": [],
   "source": [
    "#Bad donors: Gender, province and language\n",
    "bad_donors = test[test['lr proba donate']< 0.05]\n",
    "bad_donors_ids = pd.DataFrame(bad_donors['donorID'])\n",
    "bad__donors = pd.merge(bad_donors_ids, donors1, how='left', on= 'donorID')"
   ]
  },
  {
   "cell_type": "code",
   "execution_count": 65,
   "id": "b1c75f07",
   "metadata": {},
   "outputs": [
    {
     "data": {
      "image/png": "[encoded data removed]",
      "text/plain": [
       "<Figure size 432x288 with 1 Axes>"
      ]
     },
     "metadata": {
      "needs_background": "light"
     },
     "output_type": "display_data"
    }
   ],
   "source": [
    "#Gender of bad donors\n",
    "bad__donors['gender']=bad__donors['gender'].replace({'F': 'Female','M': 'Male'})\n",
    "gender = bad__donors['gender'].value_counts()\n",
    "plt.barh(gender.index, width=gender)\n",
    "plt.title('Gender')\n",
    "plt.xlabel('Number of donors')\n",
    "plt.xticks(rotation = 90)\n",
    "plt.show()"
   ]
  },
  {
   "cell_type": "code",
   "execution_count": 66,
   "id": "38fee293",
   "metadata": {},
   "outputs": [
    {
     "data": {
      "image/png": "[encoded data removed]",
      "text/plain": [
       "<Figure size 432x288 with 1 Axes>"
      ]
     },
     "metadata": {},
     "output_type": "display_data"
    },
    {
     "data": {
      "text/html": [
       "<div>\n",
       "<style scoped>\n",
       "    .dataframe tbody tr th:only-of-type {\n",
       "        vertical-align: middle;\n",
       "    }\n",
       "\n",
       "    .dataframe tbody tr th {\n",
       "        vertical-align: top;\n",
       "    }\n",
       "\n",
       "    .dataframe thead th {\n",
       "        text-align: right;\n",
       "    }\n",
       "</style>\n",
       "<table border=\"1\" class=\"dataframe\">\n",
       "  <thead>\n",
       "    <tr style=\"text-align: right;\">\n",
       "      <th></th>\n",
       "      <th>language</th>\n",
       "    </tr>\n",
       "  </thead>\n",
       "  <tbody>\n",
       "    <tr>\n",
       "      <th>Dutch</th>\n",
       "      <td>0.906429</td>\n",
       "    </tr>\n",
       "    <tr>\n",
       "      <th>French</th>\n",
       "      <td>0.093525</td>\n",
       "    </tr>\n",
       "    <tr>\n",
       "      <th>English</th>\n",
       "      <td>0.000047</td>\n",
       "    </tr>\n",
       "  </tbody>\n",
       "</table>\n",
       "</div>"
      ],
      "text/plain": [
       "         language\n",
       "Dutch    0.906429\n",
       "French   0.093525\n",
       "English  0.000047"
      ]
     },
     "execution_count": 66,
     "metadata": {},
     "output_type": "execute_result"
    }
   ],
   "source": [
    "#language of bad donors\n",
    "bad__donors['language']=bad__donors['language'].replace({'NL': 'Dutch','EN': 'English', 'FR': 'French' })\n",
    "language =bad__donors ['language'].value_counts(normalize=True)\n",
    "plt.pie(language, labels=language.index, autopct='%1.1f%%')\n",
    "plt.title('Language')\n",
    "plt.show()\n",
    "pd.DataFrame(language)"
   ]
  },
  {
   "cell_type": "code",
   "execution_count": 67,
   "id": "75c3c14d",
   "metadata": {},
   "outputs": [
    {
     "data": {
      "image/png": "[encoded data removed]",
      "text/plain": [
       "<Figure size 432x288 with 1 Axes>"
      ]
     },
     "metadata": {
      "needs_background": "light"
     },
     "output_type": "display_data"
    }
   ],
   "source": [
    "#Provinces in which bad donors live\n",
    "plt.hist(bad__donors['province'], bins=50)\n",
    "plt.title('Provinces')\n",
    "plt.xticks(bad__donors['province'], rotation='vertical')\n",
    "plt.ylabel('Number of Donors')\n",
    "plt.show()\n"
   ]
  },
  {
   "cell_type": "code",
   "execution_count": 68,
   "id": "fad5501c",
   "metadata": {},
   "outputs": [
    {
     "data": {
      "image/png": "[encoded data removed]",
      "text/plain": [
       "<Figure size 432x288 with 1 Axes>"
      ]
     },
     "metadata": {
      "needs_background": "light"
     },
     "output_type": "display_data"
    }
   ],
   "source": [
    "# Age of bad donors\n",
    "bad_donors = test[test['lr proba donate']> 0.2]\n",
    "bad_donors = test[test['age']< 100]\n",
    "plt.hist(bad_donors['age'], bins = 15)\n",
    "plt.title('Age')\n",
    "plt.xlabel('Age')\n",
    "plt.ylabel('Number of donors')\n",
    "plt.show()"
   ]
  },
  {
   "cell_type": "code",
   "execution_count": null,
   "id": "ea82ce41",
   "metadata": {},
   "outputs": [],
   "source": []
  }
 ],
 "metadata": {
  "kernelspec": {
   "display_name": "Python 3",
   "language": "python",
   "name": "python3"
  },
  "language_info": {
   "codemirror_mode": {
    "name": "ipython",
    "version": 3
   },
   "file_extension": ".py",
   "mimetype": "text/x-python",
   "name": "python",
   "nbconvert_exporter": "python",
   "pygments_lexer": "ipython3",
   "version": "3.9.4"
  }
 },
 "nbformat": 4,
 "nbformat_minor": 5
}
